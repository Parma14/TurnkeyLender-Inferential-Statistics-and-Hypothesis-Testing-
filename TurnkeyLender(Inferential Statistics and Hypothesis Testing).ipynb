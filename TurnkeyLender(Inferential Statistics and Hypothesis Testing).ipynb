{
 "cells": [
  {
   "cell_type": "code",
   "execution_count": 1,
   "id": "401a7bdc",
   "metadata": {},
   "outputs": [],
   "source": [
    "import pandas as pd\n",
    "import matplotlib.pyplot as plt\n",
    "import seaborn as sns\n"
   ]
  },
  {
   "cell_type": "code",
   "execution_count": 2,
   "id": "5f2a07df",
   "metadata": {},
   "outputs": [
    {
     "name": "stdout",
     "output_type": "stream",
     "text": [
      "   ID       AMT  GENDER  EDUCATION  MARITAL STATUS  AGE  REPAY_SEP  REPAY_AUG  \\\n",
      "0   1   20000.0       2        2.0               1   24          2          2   \n",
      "1   2  120000.0       2        2.0               2   26          0          2   \n",
      "2   3   90000.0       2        2.0               2   34          0          0   \n",
      "3   4   50000.0       2        2.0               1   37          0          0   \n",
      "4   5   50000.0       1        2.0               1   57          0          0   \n",
      "\n",
      "   REPAY_JUL  REPAY_JUN  ...  AMTBILL_JUN  AMTBILL_MAY  AMTBILL_APR  PRE_SEP  \\\n",
      "0          0          0  ...          0.0          0.0          0.0      0.0   \n",
      "1          0          0  ...       3272.0       3455.0       3261.0      0.0   \n",
      "2          0          0  ...      14331.0      14948.0      15549.0   1518.0   \n",
      "3          0          0  ...      28314.0      28959.0      29547.0   2000.0   \n",
      "4          0          0  ...      20940.0      19146.0      19131.0   2000.0   \n",
      "\n",
      "   PRE_AUG  PRE_JUL  PRE_JUN  PRE_MAY  PRE_APR  DEF_AMT  \n",
      "0    689.0      0.0      0.0      0.0      0.0        1  \n",
      "1   1000.0   1000.0   1000.0      0.0   2000.0        1  \n",
      "2   1500.0   1000.0   1000.0   1000.0   5000.0        0  \n",
      "3   2019.0   1200.0   1100.0   1069.0   1000.0        0  \n",
      "4  36681.0  10000.0   9000.0    689.0    679.0        0  \n",
      "\n",
      "[5 rows x 25 columns]\n"
     ]
    }
   ],
   "source": [
    "df=pd.read_csv(\"Credit Dataset for HV Turnkey Lender.csv\")\n",
    "print(df.head())"
   ]
  },
  {
   "cell_type": "code",
   "execution_count": 3,
   "id": "72451c1f",
   "metadata": {},
   "outputs": [
    {
     "data": {
      "text/html": [
       "<div>\n",
       "<style scoped>\n",
       "    .dataframe tbody tr th:only-of-type {\n",
       "        vertical-align: middle;\n",
       "    }\n",
       "\n",
       "    .dataframe tbody tr th {\n",
       "        vertical-align: top;\n",
       "    }\n",
       "\n",
       "    .dataframe thead th {\n",
       "        text-align: right;\n",
       "    }\n",
       "</style>\n",
       "<table border=\"1\" class=\"dataframe\">\n",
       "  <thead>\n",
       "    <tr style=\"text-align: right;\">\n",
       "      <th></th>\n",
       "      <th>ID</th>\n",
       "      <th>AMT</th>\n",
       "      <th>GENDER</th>\n",
       "      <th>EDUCATION</th>\n",
       "      <th>MARITAL STATUS</th>\n",
       "      <th>AGE</th>\n",
       "      <th>REPAY_SEP</th>\n",
       "      <th>REPAY_AUG</th>\n",
       "      <th>REPAY_JUL</th>\n",
       "      <th>REPAY_JUN</th>\n",
       "      <th>...</th>\n",
       "      <th>AMTBILL_JUN</th>\n",
       "      <th>AMTBILL_MAY</th>\n",
       "      <th>AMTBILL_APR</th>\n",
       "      <th>PRE_SEP</th>\n",
       "      <th>PRE_AUG</th>\n",
       "      <th>PRE_JUL</th>\n",
       "      <th>PRE_JUN</th>\n",
       "      <th>PRE_MAY</th>\n",
       "      <th>PRE_APR</th>\n",
       "      <th>DEF_AMT</th>\n",
       "    </tr>\n",
       "  </thead>\n",
       "  <tbody>\n",
       "    <tr>\n",
       "      <th>0</th>\n",
       "      <td>1</td>\n",
       "      <td>20000.0</td>\n",
       "      <td>2</td>\n",
       "      <td>2.0</td>\n",
       "      <td>1</td>\n",
       "      <td>24</td>\n",
       "      <td>2</td>\n",
       "      <td>2</td>\n",
       "      <td>0</td>\n",
       "      <td>0</td>\n",
       "      <td>...</td>\n",
       "      <td>0.0</td>\n",
       "      <td>0.0</td>\n",
       "      <td>0.0</td>\n",
       "      <td>0.0</td>\n",
       "      <td>689.0</td>\n",
       "      <td>0.0</td>\n",
       "      <td>0.0</td>\n",
       "      <td>0.0</td>\n",
       "      <td>0.0</td>\n",
       "      <td>1</td>\n",
       "    </tr>\n",
       "    <tr>\n",
       "      <th>1</th>\n",
       "      <td>2</td>\n",
       "      <td>120000.0</td>\n",
       "      <td>2</td>\n",
       "      <td>2.0</td>\n",
       "      <td>2</td>\n",
       "      <td>26</td>\n",
       "      <td>0</td>\n",
       "      <td>2</td>\n",
       "      <td>0</td>\n",
       "      <td>0</td>\n",
       "      <td>...</td>\n",
       "      <td>3272.0</td>\n",
       "      <td>3455.0</td>\n",
       "      <td>3261.0</td>\n",
       "      <td>0.0</td>\n",
       "      <td>1000.0</td>\n",
       "      <td>1000.0</td>\n",
       "      <td>1000.0</td>\n",
       "      <td>0.0</td>\n",
       "      <td>2000.0</td>\n",
       "      <td>1</td>\n",
       "    </tr>\n",
       "    <tr>\n",
       "      <th>2</th>\n",
       "      <td>3</td>\n",
       "      <td>90000.0</td>\n",
       "      <td>2</td>\n",
       "      <td>2.0</td>\n",
       "      <td>2</td>\n",
       "      <td>34</td>\n",
       "      <td>0</td>\n",
       "      <td>0</td>\n",
       "      <td>0</td>\n",
       "      <td>0</td>\n",
       "      <td>...</td>\n",
       "      <td>14331.0</td>\n",
       "      <td>14948.0</td>\n",
       "      <td>15549.0</td>\n",
       "      <td>1518.0</td>\n",
       "      <td>1500.0</td>\n",
       "      <td>1000.0</td>\n",
       "      <td>1000.0</td>\n",
       "      <td>1000.0</td>\n",
       "      <td>5000.0</td>\n",
       "      <td>0</td>\n",
       "    </tr>\n",
       "    <tr>\n",
       "      <th>3</th>\n",
       "      <td>4</td>\n",
       "      <td>50000.0</td>\n",
       "      <td>2</td>\n",
       "      <td>2.0</td>\n",
       "      <td>1</td>\n",
       "      <td>37</td>\n",
       "      <td>0</td>\n",
       "      <td>0</td>\n",
       "      <td>0</td>\n",
       "      <td>0</td>\n",
       "      <td>...</td>\n",
       "      <td>28314.0</td>\n",
       "      <td>28959.0</td>\n",
       "      <td>29547.0</td>\n",
       "      <td>2000.0</td>\n",
       "      <td>2019.0</td>\n",
       "      <td>1200.0</td>\n",
       "      <td>1100.0</td>\n",
       "      <td>1069.0</td>\n",
       "      <td>1000.0</td>\n",
       "      <td>0</td>\n",
       "    </tr>\n",
       "    <tr>\n",
       "      <th>4</th>\n",
       "      <td>5</td>\n",
       "      <td>50000.0</td>\n",
       "      <td>1</td>\n",
       "      <td>2.0</td>\n",
       "      <td>1</td>\n",
       "      <td>57</td>\n",
       "      <td>0</td>\n",
       "      <td>0</td>\n",
       "      <td>0</td>\n",
       "      <td>0</td>\n",
       "      <td>...</td>\n",
       "      <td>20940.0</td>\n",
       "      <td>19146.0</td>\n",
       "      <td>19131.0</td>\n",
       "      <td>2000.0</td>\n",
       "      <td>36681.0</td>\n",
       "      <td>10000.0</td>\n",
       "      <td>9000.0</td>\n",
       "      <td>689.0</td>\n",
       "      <td>679.0</td>\n",
       "      <td>0</td>\n",
       "    </tr>\n",
       "  </tbody>\n",
       "</table>\n",
       "<p>5 rows × 25 columns</p>\n",
       "</div>"
      ],
      "text/plain": [
       "   ID       AMT  GENDER  EDUCATION  MARITAL STATUS  AGE  REPAY_SEP  REPAY_AUG  \\\n",
       "0   1   20000.0       2        2.0               1   24          2          2   \n",
       "1   2  120000.0       2        2.0               2   26          0          2   \n",
       "2   3   90000.0       2        2.0               2   34          0          0   \n",
       "3   4   50000.0       2        2.0               1   37          0          0   \n",
       "4   5   50000.0       1        2.0               1   57          0          0   \n",
       "\n",
       "   REPAY_JUL  REPAY_JUN  ...  AMTBILL_JUN  AMTBILL_MAY  AMTBILL_APR  PRE_SEP  \\\n",
       "0          0          0  ...          0.0          0.0          0.0      0.0   \n",
       "1          0          0  ...       3272.0       3455.0       3261.0      0.0   \n",
       "2          0          0  ...      14331.0      14948.0      15549.0   1518.0   \n",
       "3          0          0  ...      28314.0      28959.0      29547.0   2000.0   \n",
       "4          0          0  ...      20940.0      19146.0      19131.0   2000.0   \n",
       "\n",
       "   PRE_AUG  PRE_JUL  PRE_JUN  PRE_MAY  PRE_APR  DEF_AMT  \n",
       "0    689.0      0.0      0.0      0.0      0.0        1  \n",
       "1   1000.0   1000.0   1000.0      0.0   2000.0        1  \n",
       "2   1500.0   1000.0   1000.0   1000.0   5000.0        0  \n",
       "3   2019.0   1200.0   1100.0   1069.0   1000.0        0  \n",
       "4  36681.0  10000.0   9000.0    689.0    679.0        0  \n",
       "\n",
       "[5 rows x 25 columns]"
      ]
     },
     "execution_count": 3,
     "metadata": {},
     "output_type": "execute_result"
    }
   ],
   "source": [
    "df.head()"
   ]
  },
  {
   "cell_type": "code",
   "execution_count": 4,
   "id": "7ca989bf",
   "metadata": {},
   "outputs": [
    {
     "name": "stdout",
     "output_type": "stream",
     "text": [
      "ID                  int64\n",
      "AMT               float64\n",
      "GENDER              int64\n",
      "EDUCATION         float64\n",
      "MARITAL STATUS      int64\n",
      "AGE                 int64\n",
      "REPAY_SEP           int64\n",
      "REPAY_AUG           int64\n",
      "REPAY_JUL           int64\n",
      "REPAY_JUN           int64\n",
      "REPAY_MAY           int64\n",
      "REPAY_APR           int64\n",
      "AMTBILL_SEP       float64\n",
      "AMTBILL_AUG       float64\n",
      "AMTBILL_JUL       float64\n",
      "AMTBILL_JUN       float64\n",
      "AMTBILL_MAY       float64\n",
      "AMTBILL_APR       float64\n",
      "PRE_SEP           float64\n",
      "PRE_AUG           float64\n",
      "PRE_JUL           float64\n",
      "PRE_JUN           float64\n",
      "PRE_MAY           float64\n",
      "PRE_APR           float64\n",
      "DEF_AMT             int64\n",
      "dtype: object\n",
      "<class 'pandas.core.frame.DataFrame'>\n",
      "RangeIndex: 30000 entries, 0 to 29999\n",
      "Data columns (total 25 columns):\n",
      " #   Column          Non-Null Count  Dtype  \n",
      "---  ------          --------------  -----  \n",
      " 0   ID              30000 non-null  int64  \n",
      " 1   AMT             30000 non-null  float64\n",
      " 2   GENDER          30000 non-null  int64  \n",
      " 3   EDUCATION       29986 non-null  float64\n",
      " 4   MARITAL STATUS  30000 non-null  int64  \n",
      " 5   AGE             30000 non-null  int64  \n",
      " 6   REPAY_SEP       30000 non-null  int64  \n",
      " 7   REPAY_AUG       30000 non-null  int64  \n",
      " 8   REPAY_JUL       30000 non-null  int64  \n",
      " 9   REPAY_JUN       30000 non-null  int64  \n",
      " 10  REPAY_MAY       30000 non-null  int64  \n",
      " 11  REPAY_APR       30000 non-null  int64  \n",
      " 12  AMTBILL_SEP     30000 non-null  float64\n",
      " 13  AMTBILL_AUG     30000 non-null  float64\n",
      " 14  AMTBILL_JUL     30000 non-null  float64\n",
      " 15  AMTBILL_JUN     30000 non-null  float64\n",
      " 16  AMTBILL_MAY     30000 non-null  float64\n",
      " 17  AMTBILL_APR     30000 non-null  float64\n",
      " 18  PRE_SEP         30000 non-null  float64\n",
      " 19  PRE_AUG         30000 non-null  float64\n",
      " 20  PRE_JUL         30000 non-null  float64\n",
      " 21  PRE_JUN         30000 non-null  float64\n",
      " 22  PRE_MAY         30000 non-null  float64\n",
      " 23  PRE_APR         30000 non-null  float64\n",
      " 24  DEF_AMT         30000 non-null  int64  \n",
      "dtypes: float64(14), int64(11)\n",
      "memory usage: 5.7 MB\n",
      "None\n"
     ]
    }
   ],
   "source": [
    "print(df.dtypes)\n",
    "print(df.info())\n"
   ]
  },
  {
   "cell_type": "code",
   "execution_count": 5,
   "id": "be057e4b",
   "metadata": {},
   "outputs": [
    {
     "name": "stdout",
     "output_type": "stream",
     "text": [
      "                 ID             AMT        GENDER     EDUCATION  \\\n",
      "count  30000.000000    30000.000000  30000.000000  29986.000000   \n",
      "mean   15000.500000   167484.322667      1.603733      1.852298   \n",
      "std     8660.398374   129747.661567      0.489129      0.781622   \n",
      "min        1.000000    10000.000000      1.000000      1.000000   \n",
      "25%     7500.750000    50000.000000      1.000000      1.000000   \n",
      "50%    15000.500000   140000.000000      2.000000      2.000000   \n",
      "75%    22500.250000   240000.000000      2.000000      2.000000   \n",
      "max    30000.000000  1000000.000000      2.000000      5.000000   \n",
      "\n",
      "       MARITAL STATUS           AGE     REPAY_SEP     REPAY_AUG     REPAY_JUL  \\\n",
      "count    30000.000000  30000.000000  30000.000000  30000.000000  30000.000000   \n",
      "mean         1.555567     35.485500      0.356767      0.320033      0.304067   \n",
      "std          0.518833      9.217904      0.760594      0.801727      0.790589   \n",
      "min          1.000000     21.000000      0.000000      0.000000      0.000000   \n",
      "25%          1.000000     28.000000      0.000000      0.000000      0.000000   \n",
      "50%          2.000000     34.000000      0.000000      0.000000      0.000000   \n",
      "75%          2.000000     41.000000      0.000000      0.000000      0.000000   \n",
      "max          3.000000     79.000000      8.000000      8.000000      8.000000   \n",
      "\n",
      "          REPAY_JUN  ...    AMTBILL_JUN    AMTBILL_MAY    AMTBILL_APR  \\\n",
      "count  30000.000000  ...   30000.000000   30000.000000   30000.000000   \n",
      "mean       0.258767  ...   43287.066733   40327.549367   38907.530300   \n",
      "std        0.761113  ...   64309.431029   60785.288413   59511.193927   \n",
      "min        0.000000  ...  -81334.000000  -81334.000000 -339603.000000   \n",
      "25%        0.000000  ...    2337.000000    1769.500000    1261.000000   \n",
      "50%        0.000000  ...   19052.000000   18104.500000   17075.500000   \n",
      "75%        0.000000  ...   54519.000000   50190.500000   49205.250000   \n",
      "max        8.000000  ...  891586.000000  927171.000000  961664.000000   \n",
      "\n",
      "             PRE_SEP       PRE_AUG       PRE_JUL        PRE_JUN  \\\n",
      "count   30000.000000  3.000000e+04   30000.00000   30000.000000   \n",
      "mean     5663.580500  5.921163e+03    5225.68150    4826.076867   \n",
      "std     16563.280354  2.304087e+04   17606.96147   15666.159744   \n",
      "min         0.000000  0.000000e+00       0.00000       0.000000   \n",
      "25%      1000.000000  8.330000e+02     390.00000     296.000000   \n",
      "50%      2100.000000  2.009000e+03    1800.00000    1500.000000   \n",
      "75%      5006.000000  5.000000e+03    4505.00000    4013.250000   \n",
      "max    873552.000000  1.684259e+06  896040.00000  621000.000000   \n",
      "\n",
      "             PRE_MAY        PRE_APR       DEF_AMT  \n",
      "count   30000.000000   30000.000000  30000.000000  \n",
      "mean     4799.387633    5215.502567      0.221200  \n",
      "std     15278.305679   17777.465775      0.415062  \n",
      "min         0.000000       0.000000      0.000000  \n",
      "25%       252.500000     117.750000      0.000000  \n",
      "50%      1500.000000    1500.000000      0.000000  \n",
      "75%      4031.500000    4000.000000      0.000000  \n",
      "max    426529.000000  528666.000000      1.000000  \n",
      "\n",
      "[8 rows x 25 columns]\n"
     ]
    }
   ],
   "source": [
    "print(df.describe())"
   ]
  },
  {
   "cell_type": "code",
   "execution_count": 6,
   "id": "a0e0e09b",
   "metadata": {},
   "outputs": [
    {
     "name": "stdout",
     "output_type": "stream",
     "text": [
      "AMT        REPAY_SEP  REPAY_AUG  REPAY_JUL  REPAY_JUN  REPAY_MAY  REPAY_APR\n",
      "50000.0    0          0          0          0          0          0            2056\n",
      "200000.0   0          0          0          0          0          0            1093\n",
      "80000.0    0          0          0          0          0          0            1018\n",
      "20000.0    0          0          0          0          0          0             925\n",
      "150000.0   0          0          0          0          0          0             794\n",
      "                                                                               ... \n",
      "100000.0   2          2          0          0          2          0               1\n",
      "                      0          2          0          0          0               1\n",
      "                                 0          3          3          2               1\n",
      "                                                       2          0               1\n",
      "1000000.0  0          0          0          0          0          0               1\n",
      "Length: 2323, dtype: int64\n"
     ]
    }
   ],
   "source": [
    "print(df[['AMT','REPAY_SEP','REPAY_AUG','REPAY_JUL','REPAY_JUN','REPAY_MAY','REPAY_APR']].value_counts())"
   ]
  },
  {
   "cell_type": "code",
   "execution_count": 7,
   "id": "7d372008",
   "metadata": {},
   "outputs": [
    {
     "name": "stdout",
     "output_type": "stream",
     "text": [
      "AMT        AMTBILL_SEP  AMTBILL_AUG  AMTBILL_JUL  AMTBILL_JUN  AMTBILL_MAY  AMTBILL_APR\n",
      "360000.0   0.0          0.0          0.0          0.0          0.0          0.0            112\n",
      "200000.0   0.0          0.0          0.0          0.0          0.0          0.0             68\n",
      "50000.0    0.0          0.0          0.0          0.0          0.0          0.0             57\n",
      "180000.0   0.0          0.0          0.0          0.0          0.0          0.0             54\n",
      "300000.0   0.0          0.0          0.0          0.0          0.0          0.0             52\n",
      "                                                                                          ... \n",
      "80000.0    34984.0      37853.0      36230.0      37235.0      38575.0      39590.0          1\n",
      "           34965.0      35660.0      37082.0      38464.0      38922.0      40791.0          1\n",
      "           34905.0      35923.0      37339.0      38419.0      39316.0      35902.0          1\n",
      "           34827.0      27881.0      16801.0      12532.0      12059.0      1242.0           1\n",
      "1000000.0  964511.0     983931.0     535020.0     891586.0     927171.0     961664.0         1\n",
      "Length: 29009, dtype: int64\n"
     ]
    }
   ],
   "source": [
    "print(df[['AMT','AMTBILL_SEP','AMTBILL_AUG','AMTBILL_JUL','AMTBILL_JUN','AMTBILL_MAY','AMTBILL_APR']].value_counts())"
   ]
  },
  {
   "cell_type": "code",
   "execution_count": 8,
   "id": "a02685f1",
   "metadata": {},
   "outputs": [
    {
     "name": "stdout",
     "output_type": "stream",
     "text": [
      "AMT        PRE_SEP  PRE_AUG  PRE_JUL   PRE_JUN  PRE_MAY  PRE_APR\n",
      "360000.0   0.0      0.0      0.0       0.0      0.0      0.0        138\n",
      "50000.0    0.0      0.0      0.0       0.0      0.0      0.0        119\n",
      "200000.0   0.0      0.0      0.0       0.0      0.0      0.0         98\n",
      "20000.0    0.0      0.0      0.0       0.0      0.0      0.0         78\n",
      "180000.0   0.0      0.0      0.0       0.0      0.0      0.0         70\n",
      "                                                                   ... \n",
      "80000.0    2200.0   2200.0   2200.0    2300.0   2300.0   2600.0       1\n",
      "                    2100.0   2000.0    0.0      4200.0   2100.0       1\n",
      "                    2005.0   2000.0    2000.0   2000.0   2000.0       1\n",
      "                    2000.0   2015.0    1700.0   1700.0   2000.0       1\n",
      "1000000.0  50784.0  50723.0  896040.0  50000.0  50000.0  50256.0      1\n",
      "Length: 28435, dtype: int64\n"
     ]
    }
   ],
   "source": [
    "print(df[['AMT','PRE_SEP','PRE_AUG','PRE_JUL','PRE_JUN','PRE_MAY','PRE_APR']].value_counts())"
   ]
  },
  {
   "cell_type": "code",
   "execution_count": 9,
   "id": "581e7b96",
   "metadata": {},
   "outputs": [
    {
     "name": "stdout",
     "output_type": "stream",
     "text": [
      "AMT        DEF_AMT\n",
      "50000.0    0          2480\n",
      "20000.0    0          1278\n",
      "200000.0   0          1258\n",
      "80000.0    0          1204\n",
      "30000.0    0          1042\n",
      "                      ... \n",
      "620000.0   1             1\n",
      "530000.0   1             1\n",
      "590000.0   1             1\n",
      "580000.0   1             1\n",
      "1000000.0  0             1\n",
      "Length: 145, dtype: int64\n"
     ]
    }
   ],
   "source": [
    "print(df[['AMT','DEF_AMT']].value_counts())"
   ]
  },
  {
   "cell_type": "code",
   "execution_count": 10,
   "id": "4dabe9c2",
   "metadata": {},
   "outputs": [
    {
     "name": "stdout",
     "output_type": "stream",
     "text": [
      "ID                 0\n",
      "AMT                0\n",
      "GENDER             0\n",
      "EDUCATION         14\n",
      "MARITAL STATUS     0\n",
      "AGE                0\n",
      "REPAY_SEP          0\n",
      "REPAY_AUG          0\n",
      "REPAY_JUL          0\n",
      "REPAY_JUN          0\n",
      "REPAY_MAY          0\n",
      "REPAY_APR          0\n",
      "AMTBILL_SEP        0\n",
      "AMTBILL_AUG        0\n",
      "AMTBILL_JUL        0\n",
      "AMTBILL_JUN        0\n",
      "AMTBILL_MAY        0\n",
      "AMTBILL_APR        0\n",
      "PRE_SEP            0\n",
      "PRE_AUG            0\n",
      "PRE_JUL            0\n",
      "PRE_JUN            0\n",
      "PRE_MAY            0\n",
      "PRE_APR            0\n",
      "DEF_AMT            0\n",
      "dtype: int64\n"
     ]
    }
   ],
   "source": [
    "print(df.isnull().sum())\n",
    "df = df.dropna()"
   ]
  },
  {
   "cell_type": "code",
   "execution_count": 11,
   "id": "b2cc1be4",
   "metadata": {},
   "outputs": [
    {
     "data": {
      "image/png": "[encoded data removed]",
      "text/plain": [
       "<Figure size 640x480 with 1 Axes>"
      ]
     },
     "metadata": {},
     "output_type": "display_data"
    }
   ],
   "source": [
    "sns.histplot(df['EDUCATION'], bins=20)\n",
    "plt.show()"
   ]
  },
  {
   "cell_type": "code",
   "execution_count": 12,
   "id": "7e840c51",
   "metadata": {},
   "outputs": [
    {
     "data": {
      "image/png": "[encoded data removed]",
      "text/plain": [
       "<Figure size 640x480 with 1 Axes>"
      ]
     },
     "metadata": {},
     "output_type": "display_data"
    }
   ],
   "source": [
    "sns.histplot(df['AMT'], bins=10)\n",
    "plt.show()"
   ]
  },
  {
   "cell_type": "code",
   "execution_count": 13,
   "id": "59517e16",
   "metadata": {},
   "outputs": [
    {
     "data": {
      "image/png": "[encoded data removed]",
      "text/plain": [
       "<Figure size 640x480 with 1 Axes>"
      ]
     },
     "metadata": {},
     "output_type": "display_data"
    }
   ],
   "source": [
    "sns.boxplot(x='EDUCATION', y='DEF_AMT', data=df)\n",
    "plt.show()"
   ]
  },
  {
   "cell_type": "code",
   "execution_count": 14,
   "id": "4d60d7ae",
   "metadata": {},
   "outputs": [
    {
     "data": {
      "image/png": "[encoded data removed]",
      "text/plain": [
       "<Figure size 640x480 with 1 Axes>"
      ]
     },
     "metadata": {},
     "output_type": "display_data"
    }
   ],
   "source": [
    "sns.boxplot(x='EDUCATION', y='AMT', data=df)\n",
    "plt.show()"
   ]
  },
  {
   "cell_type": "code",
   "execution_count": 15,
   "id": "ac286f1a",
   "metadata": {},
   "outputs": [
    {
     "name": "stdout",
     "output_type": "stream",
     "text": [
      "                      ID       AMT    GENDER  EDUCATION  MARITAL STATUS  \\\n",
      "ID              1.000000  0.026278  0.018574   0.039421       -0.027754   \n",
      "AMT             0.026278  1.000000  0.024810  -0.220942       -0.111286   \n",
      "GENDER          0.018574  0.024810  1.000000   0.014420       -0.029404   \n",
      "EDUCATION       0.039421 -0.220942  0.014420   1.000000       -0.137063   \n",
      "MARITAL STATUS -0.027754 -0.111286 -0.029404  -0.137063        1.000000   \n",
      "AGE             0.018653  0.144665 -0.090925   0.175504       -0.415527   \n",
      "REPAY_SEP      -0.020837 -0.170783 -0.034493   0.051008       -0.011134   \n",
      "REPAY_AUG      -0.009959 -0.197098 -0.044831   0.056460       -0.009081   \n",
      "REPAY_JUL      -0.018831 -0.191322 -0.041375   0.046302        0.002269   \n",
      "REPAY_JUN       0.013718 -0.180655 -0.039880   0.044972       -0.003139   \n",
      "REPAY_MAY      -0.020306 -0.170015 -0.038596   0.034264       -0.002171   \n",
      "REPAY_APR      -0.032421 -0.167790 -0.032124   0.023727        0.002993   \n",
      "AMTBILL_SEP     0.019503  0.285867 -0.033844   0.022264       -0.026675   \n",
      "AMTBILL_AUG     0.018034  0.278717 -0.031335   0.017459       -0.024284   \n",
      "AMTBILL_JUL     0.024517  0.283538 -0.024786   0.011786       -0.027840   \n",
      "AMTBILL_JUN     0.040292  0.294282 -0.022130  -0.001168       -0.026324   \n",
      "AMTBILL_MAY     0.016694  0.295840 -0.017128  -0.008407       -0.028119   \n",
      "AMTBILL_APR     0.016916  0.290948 -0.016764  -0.009957       -0.024030   \n",
      "PRE_SEP         0.009779  0.195217 -0.000165  -0.038407       -0.005690   \n",
      "PRE_AUG         0.008515  0.178268 -0.001342  -0.030070       -0.009313   \n",
      "PRE_JUL         0.039157  0.210065 -0.008500  -0.040475       -0.004094   \n",
      "PRE_JUN         0.007863  0.203238 -0.002225  -0.038790       -0.013730   \n",
      "PRE_MAY         0.000657  0.217253 -0.001724  -0.041964       -0.002477   \n",
      "PRE_APR         0.003008  0.219666 -0.002790  -0.038932       -0.007876   \n",
      "DEF_AMT        -0.013895 -0.153455 -0.040063   0.028075       -0.026670   \n",
      "\n",
      "                     AGE  REPAY_SEP  REPAY_AUG  REPAY_JUL  REPAY_JUN  ...  \\\n",
      "ID              0.018653  -0.020837  -0.009959  -0.018831   0.013718  ...   \n",
      "AMT             0.144665  -0.170783  -0.197098  -0.191322  -0.180655  ...   \n",
      "GENDER         -0.090925  -0.034493  -0.044831  -0.041375  -0.039880  ...   \n",
      "EDUCATION       0.175504   0.051008   0.056460   0.046302   0.044972  ...   \n",
      "MARITAL STATUS -0.415527  -0.011134  -0.009081   0.002269  -0.003139  ...   \n",
      "AGE             1.000000  -0.001417  -0.008708  -0.014154  -0.007342  ...   \n",
      "REPAY_SEP      -0.001417   1.000000   0.698434   0.517071   0.460322  ...   \n",
      "REPAY_AUG      -0.008708   0.698434   1.000000   0.663588   0.512821  ...   \n",
      "REPAY_JUL      -0.014154   0.517071   0.663588   1.000000   0.679082  ...   \n",
      "REPAY_JUN      -0.007342   0.460322   0.512821   0.679082   1.000000  ...   \n",
      "REPAY_MAY      -0.013227   0.424488   0.462687   0.551473   0.745497  ...   \n",
      "REPAY_APR      -0.016897   0.373814   0.407052   0.492862   0.602935  ...   \n",
      "AMTBILL_SEP     0.056372  -0.000637   0.011469  -0.020493  -0.025297  ...   \n",
      "AMTBILL_AUG     0.054461   0.009097   0.015789  -0.001100  -0.012676  ...   \n",
      "AMTBILL_JUL     0.053975   0.013245   0.022848   0.002379   0.002551  ...   \n",
      "AMTBILL_JUN     0.051669   0.022017   0.032312   0.016444   0.014524  ...   \n",
      "AMTBILL_MAY     0.049561   0.030705   0.040299   0.026131   0.027167  ...   \n",
      "AMTBILL_APR     0.047663   0.030321   0.042253   0.028781   0.032946  ...   \n",
      "PRE_SEP         0.026214  -0.079168  -0.097479  -0.039345  -0.054490  ...   \n",
      "PRE_AUG         0.021633  -0.057245  -0.054796  -0.073618  -0.036824  ...   \n",
      "PRE_JUL         0.029233  -0.062601  -0.059835  -0.057698  -0.074021  ...   \n",
      "PRE_JUN         0.021450  -0.061877  -0.053999  -0.053877  -0.055329  ...   \n",
      "PRE_MAY         0.022863  -0.053784  -0.048744  -0.050854  -0.052762  ...   \n",
      "PRE_APR         0.019479  -0.048727  -0.043124  -0.048460  -0.048847  ...   \n",
      "DEF_AMT         0.013984   0.396029   0.327028   0.286999   0.269066  ...   \n",
      "\n",
      "                AMTBILL_JUN  AMTBILL_MAY  AMTBILL_APR   PRE_SEP   PRE_AUG  \\\n",
      "ID                 0.040292     0.016694     0.016916  0.009779  0.008515   \n",
      "AMT                0.294282     0.295840     0.290948  0.195217  0.178268   \n",
      "GENDER            -0.022130    -0.017128    -0.016764 -0.000165 -0.001342   \n",
      "EDUCATION         -0.001168    -0.008407    -0.009957 -0.038407 -0.030070   \n",
      "MARITAL STATUS    -0.026324    -0.028119    -0.024030 -0.005690 -0.009313   \n",
      "AGE                0.051669     0.049561     0.047663  0.026214  0.021633   \n",
      "REPAY_SEP          0.022017     0.030705     0.030321 -0.079168 -0.057245   \n",
      "REPAY_AUG          0.032312     0.040299     0.042253 -0.097479 -0.054796   \n",
      "REPAY_JUL          0.016444     0.026131     0.028781 -0.039345 -0.073618   \n",
      "REPAY_JUN          0.014524     0.027167     0.032946 -0.054490 -0.036824   \n",
      "REPAY_MAY          0.023967     0.036099     0.042401 -0.053693 -0.039551   \n",
      "REPAY_APR          0.020447     0.041634     0.045783 -0.047804 -0.039832   \n",
      "AMTBILL_SEP        0.861161     0.830249     0.803523  0.144826  0.100367   \n",
      "AMTBILL_AUG        0.893097     0.859944     0.832048  0.280392  0.102357   \n",
      "AMTBILL_JUL        0.924889     0.884412     0.854058  0.244459  0.316990   \n",
      "AMTBILL_JUN        1.000000     0.940660     0.901806  0.233106  0.207768   \n",
      "AMTBILL_MAY        0.940660     1.000000     0.946597  0.217063  0.181397   \n",
      "AMTBILL_APR        0.901806     0.946597     1.000000  0.200214  0.172909   \n",
      "PRE_SEP            0.233106     0.217063     0.200214  1.000000  0.285615   \n",
      "PRE_AUG            0.207768     0.181397     0.172909  0.285615  1.000000   \n",
      "PRE_JUL            0.300081     0.252420     0.234007  0.252171  0.244669   \n",
      "PRE_JUN            0.134501     0.293103     0.250316  0.199518  0.180185   \n",
      "PRE_MAY            0.160563     0.141860     0.307846  0.148469  0.180974   \n",
      "PRE_APR            0.177682     0.164262     0.118594  0.185749  0.157720   \n",
      "DEF_AMT           -0.010341    -0.006920    -0.005708 -0.072933 -0.058520   \n",
      "\n",
      "                 PRE_JUL   PRE_JUN   PRE_MAY   PRE_APR   DEF_AMT  \n",
      "ID              0.039157  0.007863  0.000657  0.003008 -0.013895  \n",
      "AMT             0.210065  0.203238  0.217253  0.219666 -0.153455  \n",
      "GENDER         -0.008500 -0.002225 -0.001724 -0.002790 -0.040063  \n",
      "EDUCATION      -0.040475 -0.038790 -0.041964 -0.038932  0.028075  \n",
      "MARITAL STATUS -0.004094 -0.013730 -0.002477 -0.007876 -0.026670  \n",
      "AGE             0.029233  0.021450  0.022863  0.019479  0.013984  \n",
      "REPAY_SEP      -0.062601 -0.061877 -0.053784 -0.048727  0.396029  \n",
      "REPAY_AUG      -0.059835 -0.053999 -0.048744 -0.043124  0.327028  \n",
      "REPAY_JUL      -0.057698 -0.053877 -0.050854 -0.048460  0.286999  \n",
      "REPAY_JUN      -0.074021 -0.055329 -0.052762 -0.048847  0.269066  \n",
      "REPAY_MAY      -0.037245 -0.065958 -0.051838 -0.046129  0.260797  \n",
      "REPAY_APR      -0.040135 -0.030473 -0.066899 -0.045379  0.244380  \n",
      "AMTBILL_SEP     0.156981  0.158424  0.167211  0.179441 -0.019920  \n",
      "AMTBILL_AUG     0.151272  0.147545  0.158325  0.174333 -0.014375  \n",
      "AMTBILL_JUL     0.132508  0.143604  0.179738  0.182387 -0.014202  \n",
      "AMTBILL_JUN     0.300081  0.134501  0.160563  0.177682 -0.010341  \n",
      "AMTBILL_MAY     0.252420  0.293103  0.141860  0.164262 -0.006920  \n",
      "AMTBILL_APR     0.234007  0.250316  0.307846  0.118594 -0.005708  \n",
      "PRE_SEP         0.252171  0.199518  0.148469  0.185749 -0.072933  \n",
      "PRE_AUG         0.244669  0.180185  0.180974  0.157720 -0.058520  \n",
      "PRE_JUL         1.000000  0.216328  0.159242  0.162788 -0.056209  \n",
      "PRE_JUN         0.216328  1.000000  0.151829  0.157833 -0.056853  \n",
      "PRE_MAY         0.159242  0.151829  1.000000  0.154887 -0.055165  \n",
      "PRE_APR         0.162788  0.157833  0.154887  1.000000 -0.053219  \n",
      "DEF_AMT        -0.056209 -0.056853 -0.055165 -0.053219  1.000000  \n",
      "\n",
      "[25 rows x 25 columns]\n"
     ]
    }
   ],
   "source": [
    "correlation_matrix = df.corr()\n",
    "print(correlation_matrix)"
   ]
  },
  {
   "cell_type": "code",
   "execution_count": 16,
   "id": "03345f9c",
   "metadata": {},
   "outputs": [
    {
     "name": "stdout",
     "output_type": "stream",
     "text": [
      "EDUCATION   1.0   2.0   3.0  4.0  5.0\n",
      "GENDER                               \n",
      "1          4354  5374  1990   42  120\n",
      "2          6231  8656  2927   81  211\n"
     ]
    }
   ],
   "source": [
    "cross_tab = pd.crosstab(df['GENDER'], df['EDUCATION'])\n",
    "print(cross_tab)"
   ]
  },
  {
   "cell_type": "code",
   "execution_count": 17,
   "id": "ab80748f",
   "metadata": {},
   "outputs": [],
   "source": [
    "from scipy import stats"
   ]
  },
  {
   "cell_type": "code",
   "execution_count": 18,
   "id": "4e2199c4",
   "metadata": {},
   "outputs": [
    {
     "data": {
      "image/png": "[encoded data removed]",
      "text/plain": [
       "<Figure size 640x480 with 1 Axes>"
      ]
     },
     "metadata": {},
     "output_type": "display_data"
    }
   ],
   "source": [
    "sns.histplot(df['AMT'], bins=20, kde=True)\n",
    "plt.title('Histogram of Continuous Variable')\n",
    "plt.show()"
   ]
  },
  {
   "cell_type": "code",
   "execution_count": 19,
   "id": "e61b8d23",
   "metadata": {},
   "outputs": [
    {
     "data": {
      "image/png": "[encoded data removed]",
      "text/plain": [
       "<Figure size 640x480 with 1 Axes>"
      ]
     },
     "metadata": {},
     "output_type": "display_data"
    }
   ],
   "source": [
    "sns.histplot(df['DEF_AMT'], bins=20, kde=True)\n",
    "plt.title('Histogram of Continuous Variable')\n",
    "plt.show()"
   ]
  },
  {
   "cell_type": "code",
   "execution_count": 20,
   "id": "09f24df3",
   "metadata": {},
   "outputs": [
    {
     "data": {
      "image/png": "[encoded data removed]",
      "text/plain": [
       "<Figure size 640x480 with 1 Axes>"
      ]
     },
     "metadata": {},
     "output_type": "display_data"
    }
   ],
   "source": [
    "sns.histplot(df[['AMTBILL_SEP','PRE_SEP','AMT']], bins=20, kde=True)\n",
    "plt.title('Histogram of Continuous Variable')\n",
    "plt.show()"
   ]
  },
  {
   "cell_type": "code",
   "execution_count": 21,
   "id": "300e0561",
   "metadata": {},
   "outputs": [
    {
     "data": {
      "image/png": "[encoded data removed]",
      "text/plain": [
       "<Figure size 640x480 with 1 Axes>"
      ]
     },
     "metadata": {},
     "output_type": "display_data"
    }
   ],
   "source": [
    "stats.probplot(df['AMT'], plot=plt)\n",
    "plt.title('Q-Q Plot')\n",
    "plt.show()"
   ]
  },
  {
   "cell_type": "code",
   "execution_count": 22,
   "id": "6b77e9ce",
   "metadata": {},
   "outputs": [
    {
     "data": {
      "image/png": "[encoded data removed]",
      "text/plain": [
       "<Figure size 640x480 with 1 Axes>"
      ]
     },
     "metadata": {},
     "output_type": "display_data"
    }
   ],
   "source": [
    "stats.probplot(df['DEF_AMT'], plot=plt)\n",
    "plt.title('Q-Q Plot')\n",
    "plt.show()"
   ]
  },
  {
   "cell_type": "code",
   "execution_count": 23,
   "id": "73076221",
   "metadata": {},
   "outputs": [
    {
     "data": {
      "image/png": "[encoded data removed]",
      "text/plain": [
       "<Figure size 640x480 with 1 Axes>"
      ]
     },
     "metadata": {},
     "output_type": "display_data"
    }
   ],
   "source": [
    "sns.countplot(x='DEF_AMT', data=df)\n",
    "plt.title('Bar Plot of Binary Variable')\n",
    "plt.show()"
   ]
  },
  {
   "cell_type": "code",
   "execution_count": 24,
   "id": "f0acf530",
   "metadata": {},
   "outputs": [
    {
     "name": "stderr",
     "output_type": "stream",
     "text": [
      "C:\\ProgramData\\anaconda3\\lib\\site-packages\\scipy\\stats\\_discrete_distns.py:77: RuntimeWarning: divide by zero encountered in _binom_pdf\n",
      "  return _boost._binom_pdf(x, n, p)\n"
     ]
    },
    {
     "data": {
      "image/png": "[encoded data removed]",
      "text/plain": [
       "<Figure size 640x480 with 1 Axes>"
      ]
     },
     "metadata": {},
     "output_type": "display_data"
    }
   ],
   "source": [
    "n = len(df['DEF_AMT'])\n",
    "p = df['DEF_AMT'].mean()\n",
    "binomial_dist = stats.binom(n, p)\n",
    "\n",
    "\n",
    "sns.countplot(x='DEF_AMT', data=df)\n",
    "plt.plot([0, 1], [binomial_dist.pmf(0), binomial_dist.pmf(1)], 'ro-', label='Binomial Fit')\n",
    "plt.title('Binomial Distribution Fit')\n",
    "plt.legend()\n",
    "plt.show()"
   ]
  },
  {
   "cell_type": "code",
   "execution_count": 26,
   "id": "a47546fd",
   "metadata": {},
   "outputs": [],
   "source": [
    "import numpy as np\n",
    "import scipy.stats as stats"
   ]
  },
  {
   "cell_type": "code",
   "execution_count": 40,
   "id": "a9d5466b",
   "metadata": {},
   "outputs": [
    {
     "name": "stdout",
     "output_type": "stream",
     "text": [
      "Mean of 'AGE': 35.4855\n",
      "95.0% Confidence Interval for the Mean of 'AGE': (35.38118730390041, 35.58981269609959)\n"
     ]
    }
   ],
   "source": [
    "df = pd.read_csv('Credit Dataset for HV Turnkey Lender.csv')\n",
    "\n",
    "# Choose the confidence level (e.g., 95%)\n",
    "confidence_level = 0.95\n",
    "\n",
    "# Calculate the mean and standard deviation of the 'AMT' column\n",
    "mean_age = df['AGE'].mean()\n",
    "std_dev_age = df['AGE'].std(ddof=1)  # ddof=1 for sample standard deviation\n",
    "\n",
    "# Calculate the sample size\n",
    "n_age = len(df['AGE'])\n",
    "\n",
    "# Calculate the margin of error using the t-distribution\n",
    "margin_of_error = stats.t.ppf((1 + confidence_level) / 2, n_age - 1) * (std_dev_age / np.sqrt(n_age))\n",
    "\n",
    "# Calculate the confidence interval\n",
    "confidence_interval_age = (mean_age - margin_of_error, mean_age + margin_of_error)\n",
    "\n",
    "# Print results\n",
    "print(\"Mean of 'AGE':\", mean_age)\n",
    "print(f\"{confidence_level*100}% Confidence Interval for the Mean of 'AGE':\", confidence_interval_age)"
   ]
  },
  {
   "cell_type": "code",
   "execution_count": 39,
   "id": "97eaac9f",
   "metadata": {},
   "outputs": [
    {
     "name": "stdout",
     "output_type": "stream",
     "text": [
      "Mean of 'AMT': 167484.32266666667\n",
      "95.0% Confidence Interval for the Mean of 'AMT': (166016.0573982589, 168952.58793507444)\n"
     ]
    }
   ],
   "source": [
    "\n",
    "\n",
    "# Assuming you have a DataFrame with a column named 'AMT'\n",
    "# Replace 'your_dataset.csv' with your actual dataset file\n",
    "df = pd.read_csv('Credit Dataset for HV Turnkey Lender.csv')\n",
    "\n",
    "# Choose the confidence level (e.g., 95%)\n",
    "confidence_level = 0.95\n",
    "\n",
    "# Calculate the mean and standard deviation of the 'AMT' column\n",
    "mean_amt = df['AMT'].mean()\n",
    "std_dev_amt = df['AMT'].std(ddof=1)  # ddof=1 for sample standard deviation\n",
    "\n",
    "# Calculate the sample size\n",
    "n_amt = len(df['AMT'])\n",
    "\n",
    "# Calculate the margin of error using the t-distribution\n",
    "margin_of_error = stats.t.ppf((1 + confidence_level) / 2, n_amt - 1) * (std_dev_amt / np.sqrt(n_amt))\n",
    "\n",
    "# Calculate the confidence interval\n",
    "confidence_interval_amt = (mean_amt - margin_of_error, mean_amt + margin_of_error)\n",
    "\n",
    "# Print results\n",
    "print(\"Mean of 'AMT':\", mean_amt)\n",
    "print(f\"{confidence_level*100}% Confidence Interval for the Mean of 'AMT':\", confidence_interval_amt)\n"
   ]
  },
  {
   "cell_type": "code",
   "execution_count": 45,
   "id": "e85eb058",
   "metadata": {},
   "outputs": [
    {
     "name": "stdout",
     "output_type": "stream",
     "text": [
      "Mean of 'AMTBILL_SEP': 51245.52676666667\n",
      "95.0% Confidence Interval for the Mean of 'AMTBILL_SEP': (50412.53016235166, 52078.52337098168)\n"
     ]
    }
   ],
   "source": [
    "import pandas as pd\n",
    "import numpy as np\n",
    "import scipy.stats as stats\n",
    "\n",
    "# Assuming you have a DataFrame with a column named 'AMTBILL_SEP'\n",
    "# Replace 'your_dataset.csv' with your actual dataset file\n",
    "df = pd.read_csv('Credit Dataset for HV Turnkey Lender.csv')\n",
    "\n",
    "# Choose the confidence level (e.g., 95%)\n",
    "confidence_level = 0.95\n",
    "\n",
    "# Specify the column for analysis\n",
    "column_name = 'AMTBILL_SEP'\n",
    "\n",
    "# Calculate the mean and standard deviation of the specified column\n",
    "mean_amt_bill_sep = df[column_name].mean()\n",
    "std_dev_amt_bill_sep = df[column_name].std(ddof=1)  # ddof=1 for sample standard deviation\n",
    "\n",
    "# Calculate the sample size\n",
    "n_amt_bill_sep = len(df[column_name])\n",
    "\n",
    "# Calculate the margin of error using the t-distribution\n",
    "margin_of_error = stats.t.ppf((1 + confidence_level) / 2, n_amt_bill_sep - 1) * (std_dev_amt_bill_sep / np.sqrt(n_amt_bill_sep))\n",
    "\n",
    "# Calculate the confidence interval\n",
    "confidence_interval_amt_bill_sep = (mean_amt_bill_sep - margin_of_error, mean_amt_bill_sep + margin_of_error)\n",
    "\n",
    "# Print results\n",
    "print(f\"Mean of '{column_name}':\", mean_amt_bill_sep)\n",
    "print(f\"{confidence_level*100}% Confidence Interval for the Mean of '{column_name}':\", confidence_interval_amt_bill_sep)\n"
   ]
  },
  {
   "cell_type": "code",
   "execution_count": 46,
   "id": "919548f6",
   "metadata": {},
   "outputs": [
    {
     "name": "stdout",
     "output_type": "stream",
     "text": [
      "Mean of 'AMTBILL_AUG': 49194.34996666667\n",
      "95.0% Confidence Interval for the Mean of 'AMTBILL_AUG': (48389.055854738246, 49999.64407859509)\n"
     ]
    }
   ],
   "source": [
    "df = pd.read_csv('Credit Dataset for HV Turnkey Lender.csv')\n",
    "\n",
    "# Choose the confidence level (e.g., 95%)\n",
    "confidence_level = 0.95\n",
    "\n",
    "# Specify the column for analysis\n",
    "column_name = 'AMTBILL_AUG'\n",
    "\n",
    "# Calculate the mean and standard deviation of the specified column\n",
    "mean_amt_bill_sep = df[column_name].mean()\n",
    "std_dev_amt_bill_sep = df[column_name].std(ddof=1)  # ddof=1 for sample standard deviation\n",
    "\n",
    "# Calculate the sample size\n",
    "n_amt_bill_sep = len(df[column_name])\n",
    "\n",
    "# Calculate the margin of error using the t-distribution\n",
    "margin_of_error = stats.t.ppf((1 + confidence_level) / 2, n_amt_bill_sep - 1) * (std_dev_amt_bill_sep / np.sqrt(n_amt_bill_sep))\n",
    "\n",
    "# Calculate the confidence interval\n",
    "confidence_interval_amt_bill_sep = (mean_amt_bill_sep - margin_of_error, mean_amt_bill_sep + margin_of_error)\n",
    "\n",
    "# Print results\n",
    "print(f\"Mean of '{column_name}':\", mean_amt_bill_sep)\n",
    "print(f\"{confidence_level*100}% Confidence Interval for the Mean of '{column_name}':\", confidence_interval_amt_bill_sep)"
   ]
  },
  {
   "cell_type": "code",
   "execution_count": 43,
   "id": "c5cc47f6",
   "metadata": {},
   "outputs": [
    {
     "name": "stdout",
     "output_type": "stream",
     "text": [
      "Mean of 'AMTBILL_JUL': 47035.698866666666\n",
      "95.0% Confidence Interval for the Mean of 'AMTBILL_JUL': (46251.16083343715, 47820.23689989618)\n"
     ]
    }
   ],
   "source": [
    "import pandas as pd\n",
    "import numpy as np\n",
    "import scipy.stats as stats\n",
    "\n",
    "# Assuming you have a DataFrame with a column named 'AMTBILL_JUL'\n",
    "# Replace 'your_dataset.csv' with your actual dataset file\n",
    "df = pd.read_csv('Credit Dataset for HV Turnkey Lender.csv')\n",
    "\n",
    "# Choose the confidence level (e.g., 95%)\n",
    "confidence_level = 0.95\n",
    "\n",
    "# Specify the column for analysis\n",
    "column_name = 'AMTBILL_JUL'\n",
    "\n",
    "# Calculate the mean and standard deviation of the specified column\n",
    "mean_amt_bill_jul = df[column_name].mean()\n",
    "std_dev_amt_bill_jul = df[column_name].std(ddof=1)  # ddof=1 for sample standard deviation\n",
    "\n",
    "# Calculate the sample size\n",
    "n_amt_bill_jul = len(df['AMTBILL_JUL'])\n",
    "\n",
    "# Calculate the margin of error using the t-distribution\n",
    "margin_of_error = stats.t.ppf((1 + confidence_level) / 2, n_amt_bill_jul - 1) * (std_dev_amt_bill_jul / np.sqrt(n_amt_bill_jul))\n",
    "\n",
    "# Calculate the confidence interval\n",
    "confidence_interval_amt_bill_jul = (mean_amt_bill_jul - margin_of_error, mean_amt_bill_jul + margin_of_error)\n",
    "\n",
    "# Print results\n",
    "print(f\"Mean of '{'AMTBILL_JUL'}':\", mean_amt_bill_jul)\n",
    "print(f\"{confidence_level*100}% Confidence Interval for the Mean of '{'AMTBILL_JUL'}':\", confidence_interval_amt_bill_jul)\n"
   ]
  },
  {
   "cell_type": "code",
   "execution_count": 48,
   "id": "4311705e",
   "metadata": {},
   "outputs": [
    {
     "name": "stdout",
     "output_type": "stream",
     "text": [
      "Mean of 'AMTBILL_JUN': 43287.06673333333\n",
      "95.0% Confidence Interval for the Mean of 'AMTBILL_JUN': (42559.32102392644, 44014.81244274023)\n"
     ]
    }
   ],
   "source": [
    "df = pd.read_csv('Credit Dataset for HV Turnkey Lender.csv')\n",
    "\n",
    "# Choose the confidence level (e.g., 95%)\n",
    "confidence_level = 0.95\n",
    "\n",
    "# Specify the column for analysis\n",
    "column_name = 'AMTBILL_JUN'\n",
    "\n",
    "# Calculate the mean and standard deviation of the specified column\n",
    "mean_amt_bill_sep = df[column_name].mean()\n",
    "std_dev_amt_bill_sep = df[column_name].std(ddof=1)  # ddof=1 for sample standard deviation\n",
    "\n",
    "# Calculate the sample size\n",
    "n_amt_bill_sep = len(df[column_name])\n",
    "\n",
    "# Calculate the margin of error using the t-distribution\n",
    "margin_of_error = stats.t.ppf((1 + confidence_level) / 2, n_amt_bill_sep - 1) * (std_dev_amt_bill_sep / np.sqrt(n_amt_bill_sep))\n",
    "\n",
    "# Calculate the confidence interval\n",
    "confidence_interval_amt_bill_sep = (mean_amt_bill_sep - margin_of_error, mean_amt_bill_sep + margin_of_error)\n",
    "\n",
    "# Print results\n",
    "print(f\"Mean of '{column_name}':\", mean_amt_bill_sep)\n",
    "print(f\"{confidence_level*100}% Confidence Interval for the Mean of '{column_name}':\", confidence_interval_amt_bill_sep)"
   ]
  },
  {
   "cell_type": "code",
   "execution_count": 49,
   "id": "3a586234",
   "metadata": {},
   "outputs": [
    {
     "name": "stdout",
     "output_type": "stream",
     "text": [
      "Mean of 'AMTBILL_MAY': 40327.549366666666\n",
      "95.0% Confidence Interval for the Mean of 'AMTBILL_MAY': (39639.6839613957, 41015.414771937634)\n"
     ]
    }
   ],
   "source": [
    "df = pd.read_csv('Credit Dataset for HV Turnkey Lender.csv')\n",
    "\n",
    "# Choose the confidence level (e.g., 95%)\n",
    "confidence_level = 0.95\n",
    "\n",
    "# Specify the column for analysis\n",
    "column_name = 'AMTBILL_MAY'\n",
    "\n",
    "# Calculate the mean and standard deviation of the specified column\n",
    "mean_amt_bill_sep = df[column_name].mean()\n",
    "std_dev_amt_bill_sep = df[column_name].std(ddof=1)  # ddof=1 for sample standard deviation\n",
    "\n",
    "# Calculate the sample size\n",
    "n_amt_bill_sep = len(df[column_name])\n",
    "\n",
    "# Calculate the margin of error using the t-distribution\n",
    "margin_of_error = stats.t.ppf((1 + confidence_level) / 2, n_amt_bill_sep - 1) * (std_dev_amt_bill_sep / np.sqrt(n_amt_bill_sep))\n",
    "\n",
    "# Calculate the confidence interval\n",
    "confidence_interval_amt_bill_sep = (mean_amt_bill_sep - margin_of_error, mean_amt_bill_sep + margin_of_error)\n",
    "\n",
    "# Print results\n",
    "print(f\"Mean of '{column_name}':\", mean_amt_bill_sep)\n",
    "print(f\"{confidence_level*100}% Confidence Interval for the Mean of '{column_name}':\", confidence_interval_amt_bill_sep)"
   ]
  },
  {
   "cell_type": "code",
   "execution_count": 50,
   "id": "8aec6cd0",
   "metadata": {},
   "outputs": [
    {
     "name": "stdout",
     "output_type": "stream",
     "text": [
      "Mean of 'AMTBILL_APR': 38907.5303\n",
      "95.0% Confidence Interval for the Mean of 'AMTBILL_APR': (38234.082947895506, 39580.97765210449)\n"
     ]
    }
   ],
   "source": [
    "df = pd.read_csv('Credit Dataset for HV Turnkey Lender.csv')\n",
    "\n",
    "# Choose the confidence level (e.g., 95%)\n",
    "confidence_level = 0.95\n",
    "\n",
    "# Specify the column for analysis\n",
    "column_name = 'AMTBILL_APR'\n",
    "\n",
    "# Calculate the mean and standard deviation of the specified column\n",
    "mean_amt_bill_sep = df[column_name].mean()\n",
    "std_dev_amt_bill_sep = df[column_name].std(ddof=1)  # ddof=1 for sample standard deviation\n",
    "\n",
    "# Calculate the sample size\n",
    "n_amt_bill_sep = len(df[column_name])\n",
    "\n",
    "# Calculate the margin of error using the t-distribution\n",
    "margin_of_error = stats.t.ppf((1 + confidence_level) / 2, n_amt_bill_sep - 1) * (std_dev_amt_bill_sep / np.sqrt(n_amt_bill_sep))\n",
    "\n",
    "# Calculate the confidence interval\n",
    "confidence_interval_amt_bill_sep = (mean_amt_bill_sep - margin_of_error, mean_amt_bill_sep + margin_of_error)\n",
    "\n",
    "# Print results\n",
    "print(f\"Mean of '{column_name}':\", mean_amt_bill_sep)\n",
    "print(f\"{confidence_level*100}% Confidence Interval for the Mean of '{column_name}':\", confidence_interval_amt_bill_sep)"
   ]
  },
  {
   "cell_type": "code",
   "execution_count": 51,
   "id": "4abff75b",
   "metadata": {},
   "outputs": [
    {
     "name": "stdout",
     "output_type": "stream",
     "text": [
      "T-statistic: 120.58085097015378\n",
      "P-value: 0.0\n",
      "Reject the null hypothesis: There is a significant difference.\n"
     ]
    }
   ],
   "source": [
    "import pandas as pd\n",
    "from scipy.stats import ttest_1samp\n",
    "\n",
    "# Assuming you have a DataFrame called df with the column AMTBILL_AUG\n",
    "# Replace df with your actual DataFrame name\n",
    "\n",
    "# Specify the null hypothesis mean\n",
    "null_hypothesis_mean = 0  # Replace with the desired value\n",
    "\n",
    "# Perform one-sample t-test\n",
    "t_statistic, p_value = ttest_1samp(df['AMTBILL_SEP'], null_hypothesis_mean)\n",
    "\n",
    "# Display the results\n",
    "print(f'T-statistic: {t_statistic}')\n",
    "print(f'P-value: {p_value}')\n",
    "\n",
    "# Interpret the results\n",
    "alpha = 0.05  # Set your desired significance level\n",
    "if p_value < alpha:\n",
    "    print(\"Reject the null hypothesis: There is a significant difference.\")\n",
    "else:\n",
    "    print(\"Fail to reject the null hypothesis: No significant difference.\")"
   ]
  },
  {
   "cell_type": "code",
   "execution_count": 42,
   "id": "27557bb2",
   "metadata": {},
   "outputs": [
    {
     "name": "stdout",
     "output_type": "stream",
     "text": [
      "T-statistic: 119.7364330761445\n",
      "P-value: 0.0\n",
      "Reject the null hypothesis: There is a significant difference.\n"
     ]
    }
   ],
   "source": [
    "import pandas as pd\n",
    "from scipy.stats import ttest_1samp\n",
    "\n",
    "# Assuming you have a DataFrame called df with the column AMTBILL_AUG\n",
    "# Replace df with your actual DataFrame name\n",
    "\n",
    "# Specify the null hypothesis mean\n",
    "null_hypothesis_mean = 0  # Replace with the desired value\n",
    "\n",
    "# Perform one-sample t-test\n",
    "t_statistic, p_value = ttest_1samp(df['AMTBILL_AUG'], null_hypothesis_mean)\n",
    "\n",
    "# Display the results\n",
    "print(f'T-statistic: {t_statistic}')\n",
    "print(f'P-value: {p_value}')\n",
    "\n",
    "# Interpret the results\n",
    "alpha = 0.05  # Set your desired significance level\n",
    "if p_value < alpha:\n",
    "    print(\"Reject the null hypothesis: There is a significant difference.\")\n",
    "else:\n",
    "    print(\"Fail to reject the null hypothesis: No significant difference.\")\n"
   ]
  },
  {
   "cell_type": "code",
   "execution_count": 52,
   "id": "3eeb6729",
   "metadata": {},
   "outputs": [
    {
     "name": "stdout",
     "output_type": "stream",
     "text": [
      "T-statistic: 117.51118685669583\n",
      "P-value: 0.0\n",
      "Reject the null hypothesis: There is a significant difference.\n"
     ]
    }
   ],
   "source": [
    "import pandas as pd\n",
    "from scipy.stats import ttest_1samp\n",
    "\n",
    "# Assuming you have a DataFrame called df with the column AMTBILL_AUG\n",
    "# Replace df with your actual DataFrame name\n",
    "\n",
    "# Specify the null hypothesis mean\n",
    "null_hypothesis_mean = 0  # Replace with the desired value\n",
    "\n",
    "# Perform one-sample t-test\n",
    "t_statistic, p_value = ttest_1samp(df['AMTBILL_JUL'], null_hypothesis_mean)\n",
    "\n",
    "# Display the results\n",
    "print(f'T-statistic: {t_statistic}')\n",
    "print(f'P-value: {p_value}')\n",
    "\n",
    "# Interpret the results\n",
    "alpha = 0.05  # Set your desired significance level\n",
    "if p_value < alpha:\n",
    "    print(\"Reject the null hypothesis: There is a significant difference.\")\n",
    "else:\n",
    "    print(\"Fail to reject the null hypothesis: No significant difference.\")"
   ]
  },
  {
   "cell_type": "code",
   "execution_count": 57,
   "id": "a8c90fe8",
   "metadata": {},
   "outputs": [
    {
     "name": "stdout",
     "output_type": "stream",
     "text": [
      "Mean of 'DEF_AMT': 0.2212\n",
      "95.0% Confidence Interval for the Mean of 'DEF_AMT' using z-distribution: (0.21650321981920206, 0.22589678018079795)\n"
     ]
    }
   ],
   "source": [
    "import pandas as pd\n",
    "import numpy as np\n",
    "import scipy.stats as stats\n",
    "\n",
    "# Assuming you have a DataFrame with a column named 'DEF_AMT'\n",
    "# Replace 'your_dataset.csv' with your actual dataset file\n",
    "df = pd.read_csv('Credit Dataset for HV Turnkey Lender.csv')\n",
    "\n",
    "# Choose the confidence level (e.g., 95%)\n",
    "confidence_level = 0.95\n",
    "\n",
    "# Specify the column for analysis\n",
    "column_name = 'DEF_AMT'\n",
    "\n",
    "# Calculate the mean and standard deviation of the specified column\n",
    "mean_def_amt = df[column_name].mean()\n",
    "std_dev_def_amt = df[column_name].std()\n",
    "\n",
    "# Calculate the sample size\n",
    "n_def_amt = len(df[column_name])\n",
    "\n",
    "# Calculate the margin of error using the z-distribution\n",
    "z_critical = stats.norm.ppf((1 + confidence_level) / 2)\n",
    "margin_of_error = z_critical * (std_dev_def_amt / np.sqrt(n_def_amt))\n",
    "\n",
    "# Calculate the confidence interval\n",
    "confidence_interval_def_amt = (mean_def_amt - margin_of_error, mean_def_amt + margin_of_error)\n",
    "\n",
    "# Print results\n",
    "print(f\"Mean of '{column_name}':\", mean_def_amt)\n",
    "print(f\"{confidence_level*100}% Confidence Interval for the Mean of '{column_name}' using z-distribution:\", confidence_interval_def_amt)\n",
    "\n"
   ]
  },
  {
   "cell_type": "code",
   "execution_count": 58,
   "id": "b471cc68",
   "metadata": {},
   "outputs": [
    {
     "name": "stdout",
     "output_type": "stream",
     "text": [
      "Mean of 'AMT': 167484.32266666667\n",
      "95.0% Confidence Interval for the Mean of 'AMT' using z-distribution: (166016.11663807486, 168952.5286952585)\n"
     ]
    }
   ],
   "source": [
    "import pandas as pd\n",
    "import numpy as np\n",
    "import scipy.stats as stats\n",
    "\n",
    "# Assuming you have a DataFrame with a column named 'DEF_AMT'\n",
    "# Replace 'your_dataset.csv' with your actual dataset file\n",
    "df = pd.read_csv('Credit Dataset for HV Turnkey Lender.csv')\n",
    "\n",
    "# Choose the confidence level (e.g., 95%)\n",
    "confidence_level = 0.95\n",
    "\n",
    "# Specify the column for analysis\n",
    "column_name = 'AMT'\n",
    "\n",
    "# Calculate the mean and standard deviation of the specified column\n",
    "mean_def_amt = df[column_name].mean()\n",
    "std_dev_def_amt = df[column_name].std()\n",
    "\n",
    "# Calculate the sample size\n",
    "n_def_amt = len(df[column_name])\n",
    "\n",
    "# Calculate the margin of error using the z-distribution\n",
    "z_critical = stats.norm.ppf((1 + confidence_level) / 2)\n",
    "margin_of_error = z_critical * (std_dev_def_amt / np.sqrt(n_def_amt))\n",
    "\n",
    "# Calculate the confidence interval\n",
    "confidence_interval_def_amt = (mean_def_amt - margin_of_error, mean_def_amt + margin_of_error)\n",
    "\n",
    "# Print results\n",
    "print(f\"Mean of '{column_name}':\", mean_def_amt)\n",
    "print(f\"{confidence_level*100}% Confidence Interval for the Mean of '{column_name}' using z-distribution:\", confidence_interval_def_amt)\n"
   ]
  },
  {
   "cell_type": "code",
   "execution_count": 60,
   "id": "98fd3e9f",
   "metadata": {},
   "outputs": [
    {
     "name": "stdout",
     "output_type": "stream",
     "text": [
      "T-Statistic: -223.58088746636238\n",
      "P-Value: 0.0\n",
      "The difference between the groups is statistically significant.\n"
     ]
    }
   ],
   "source": [
    "import scipy.stats as stats\n",
    "\n",
    "# Assuming you have two groups, e.g., defaulters and non-defaulters\n",
    "group1 = df['DEF_AMT']\n",
    "group2 = df['AMT']\n",
    "\n",
    "# Perform t-test\n",
    "t_statistic, p_value = stats.ttest_ind(group1, group2)\n",
    "\n",
    "# Print the results\n",
    "print(f'T-Statistic: {t_statistic}')\n",
    "print(f'P-Value: {p_value}')\n",
    "\n",
    "# Check if the p-value is less than the significance level (e.g., 0.05) to determine significance\n",
    "if p_value < 0.05:\n",
    "    print('The difference between the groups is statistically significant.')\n",
    "else:\n",
    "    print('There is no significant difference between the groups.')\n"
   ]
  },
  {
   "cell_type": "code",
   "execution_count": 61,
   "id": "91a0a44e",
   "metadata": {},
   "outputs": [
    {
     "name": "stdout",
     "output_type": "stream",
     "text": [
      "T-Statistic: -661.9480241120837\n",
      "P-Value: 0.0\n",
      "The difference between the groups is statistically significant.\n"
     ]
    }
   ],
   "source": [
    "import scipy.stats as stats\n",
    "\n",
    "# Assuming you have two groups, e.g., defaulters and non-defaulters\n",
    "group1 = df['DEF_AMT']\n",
    "group2 = df['AGE']\n",
    "\n",
    "# Perform t-test\n",
    "t_statistic, p_value = stats.ttest_ind(group1, group2)\n",
    "\n",
    "# Print the results\n",
    "print(f'T-Statistic: {t_statistic}')\n",
    "print(f'P-Value: {p_value}')\n",
    "\n",
    "# Check if the p-value is less than the significance level (e.g., 0.05) to determine significance\n",
    "if p_value < 0.05:\n",
    "    print('The difference between the groups is statistically significant.')\n",
    "else:\n",
    "    print('There is no significant difference between the groups.')"
   ]
  },
  {
   "cell_type": "code",
   "execution_count": 62,
   "id": "06d2dc3f",
   "metadata": {},
   "outputs": [
    {
     "name": "stdout",
     "output_type": "stream",
     "text": [
      "T-Statistic: -300.00057568752374\n",
      "P-Value: 0.0\n",
      "The difference between the groups is statistically significant.\n"
     ]
    }
   ],
   "source": [
    "import scipy.stats as stats\n",
    "\n",
    "# Assuming you have two groups, e.g., defaulters and non-defaulters\n",
    "group1 = df['DEF_AMT']\n",
    "group2 = df['ID']\n",
    "\n",
    "# Perform t-test\n",
    "t_statistic, p_value = stats.ttest_ind(group1, group2)\n",
    "\n",
    "# Print the results\n",
    "print(f'T-Statistic: {t_statistic}')\n",
    "print(f'P-Value: {p_value}')\n",
    "\n",
    "# Check if the p-value is less than the significance level (e.g., 0.05) to determine significance\n",
    "if p_value < 0.05:\n",
    "    print('The difference between the groups is statistically significant.')\n",
    "else:\n",
    "    print('There is no significant difference between the groups.')"
   ]
  },
  {
   "cell_type": "code",
   "execution_count": 63,
   "id": "a1e34a72",
   "metadata": {},
   "outputs": [
    {
     "name": "stdout",
     "output_type": "stream",
     "text": [
      "ID                  int64\n",
      "AMT               float64\n",
      "GENDER              int64\n",
      "EDUCATION         float64\n",
      "MARITAL STATUS      int64\n",
      "AGE                 int64\n",
      "REPAY_SEP           int64\n",
      "REPAY_AUG           int64\n",
      "REPAY_JUL           int64\n",
      "REPAY_JUN           int64\n",
      "REPAY_MAY           int64\n",
      "REPAY_APR           int64\n",
      "AMTBILL_SEP       float64\n",
      "AMTBILL_AUG       float64\n",
      "AMTBILL_JUL       float64\n",
      "AMTBILL_JUN       float64\n",
      "AMTBILL_MAY       float64\n",
      "AMTBILL_APR       float64\n",
      "PRE_SEP           float64\n",
      "PRE_AUG           float64\n",
      "PRE_JUL           float64\n",
      "PRE_JUN           float64\n",
      "PRE_MAY           float64\n",
      "PRE_APR           float64\n",
      "DEF_AMT             int64\n",
      "dtype: object\n"
     ]
    }
   ],
   "source": [
    "print(df.dtypes)"
   ]
  },
  {
   "cell_type": "code",
   "execution_count": 64,
   "id": "e989a8c3",
   "metadata": {},
   "outputs": [
    {
     "name": "stdout",
     "output_type": "stream",
     "text": [
      "F-Statistic: 26.087293787320633\n",
      "P-Value: 4.717534405831474e-12\n",
      "There are significant differences among group means.\n"
     ]
    }
   ],
   "source": [
    "# Assuming you have more than two groups\n",
    "group1 = df['AMTBILL_SEP']\n",
    "group2 = df['AMTBILL_AUG']\n",
    "group3 = df['AMTBILL_JUL']\n",
    "\n",
    "# Perform ANOVA\n",
    "f_statistic, p_value = stats.f_oneway(group1, group2, group3)\n",
    "\n",
    "# Print the results\n",
    "print(f'F-Statistic: {f_statistic}')\n",
    "print(f'P-Value: {p_value}')\n",
    "\n",
    "# Check if the p-value is less than the significance level (e.g., 0.05) to determine significance\n",
    "if p_value < 0.05:\n",
    "    print('There are significant differences among group means.')\n",
    "else:\n",
    "    print('There are no significant differences among group means.')\n"
   ]
  },
  {
   "cell_type": "code",
   "execution_count": 65,
   "id": "f73b185f",
   "metadata": {},
   "outputs": [
    {
     "name": "stdout",
     "output_type": "stream",
     "text": [
      "F-Statistic: 39.511753314397836\n",
      "P-Value: 7.043570530449924e-18\n",
      "There are significant differences among group means.\n"
     ]
    }
   ],
   "source": [
    "# Assuming you have more than two groups\n",
    "group1 = df['AMTBILL_JUN']\n",
    "group2 = df['AMTBILL_MAY']\n",
    "group3 = df['AMTBILL_APR']\n",
    "\n",
    "# Perform ANOVA\n",
    "f_statistic, p_value = stats.f_oneway(group1, group2, group3)\n",
    "\n",
    "# Print the results\n",
    "print(f'F-Statistic: {f_statistic}')\n",
    "print(f'P-Value: {p_value}')\n",
    "\n",
    "# Check if the p-value is less than the significance level (e.g., 0.05) to determine significance\n",
    "if p_value < 0.05:\n",
    "    print('There are significant differences among group means.')\n",
    "else:\n",
    "    print('There are no significant differences among group means.')"
   ]
  },
  {
   "cell_type": "code",
   "execution_count": 68,
   "id": "77a02db3",
   "metadata": {},
   "outputs": [
    {
     "name": "stdout",
     "output_type": "stream",
     "text": [
      "Chi-Square Statistic: 158.55290013282718\n",
      "P-Value: 5.6429915495725416e-12\n",
      "There is a significant association between variables.\n"
     ]
    }
   ],
   "source": [
    "# Assuming you have categorical variables like credit card default and age groups\n",
    "observed_data = pd.crosstab(df['DEF_AMT'], df['AGE'])\n",
    "\n",
    "# Perform Chi-Square test\n",
    "chi2_stat, p_value, dof, expected = stats.chi2_contingency(observed_data)\n",
    "\n",
    "# Print the results\n",
    "print(f'Chi-Square Statistic: {chi2_stat}')\n",
    "print(f'P-Value: {p_value}')\n",
    "\n",
    "# Check if the p-value is less than the significance level (e.g., 0.05) to determine significance\n",
    "if p_value < 0.05:\n",
    "    print('There is a significant association between variables.')\n",
    "else:\n",
    "    print('There is no significant association between variables.')\n"
   ]
  },
  {
   "cell_type": "code",
   "execution_count": 71,
   "id": "3f285199",
   "metadata": {},
   "outputs": [],
   "source": [
    "#Descriptive Statistics:\n",
    "#Age:\n",
    "#Mean Age: 35.49 (95% CI: 35.38, 35.59)\n",
    "#Credit Amount (AMT):\n",
    "#Mean AMT: $167,484.32 (95% CI: $166,016.06, $168,952.59)\n",
    "#Billing Amounts (AMTBILL) for Different Months:\n",
    "#The mean billing amounts for various months are provided.\n",
    "#T-Tests for Billing Amounts:\n",
    "#AMTBILL_SEP, AMTBILL_AUG, AMTBILL_JUL:\n",
    "#T-statistics indicate a significant difference in billing amounts for September, August, and July.\n",
    "#Credit Defaults (DEF_AMT):\n",
    "#Mean DEF_AMT: 0.2212 (95% CI: 0.2165, 0.2259)\n",
    "#A small proportion of individuals have defaulted on their credit.\n",
    "#T-Tests and Chi-Square Tests:\n",
    "#Comparison between DEF_AMT and AMT:\n",
    "#Significant difference in means, indicating a statistical association.\n",
    "#Comparison between DEF_AMT and AGE, DEF_AMT and ID:\n",
    "#Significant differences in means and associations, respectively.\n",
    "#Recommendations:\n",
    "#Credit Default Analysis:\n",
    "\n",
    "#The low mean DEF_AMT suggests a generally low incidence of credit defaults.\n",
    "#Targeting specific age groups may be beneficial, as indicated by significant differences in credit defaults across age groups.\n",
    "#Tailoring marketing strategies based on age groups can be considered.\n",
    "#Billing Amount Analysis:\n",
    "\n",
    "#Significant differences in billing amounts for various months suggest varying spending patterns.\n",
    "#Exploring factors influencing billing amounts and targeting specific months for promotions or offers may be effective.\n",
    "#General Recommendations:\n",
    "\n",
    "#Continuous monitoring of credit default rates and billing patterns is recommended.\n",
    "#Further investigation into the factors influencing credit defaults, such as socio-economic factors or payment history, can provide additional insights.\n",
    "#Collaboration with marketing teams to design targeted campaigns based on demographic characteristics may enhance customer engagement and satisfaction.\n",
    "#Conclusion:\n",
    "#The analysis provides valuable insights into credit default patterns, billing behaviors, and associations with demographic factors. Targeted strategies based on age groups and billing patterns can contribute to more effective credit management and marketing efforts. Continuous monitoring and additional research can further refine these recommendations."
   ]
  },
  {
   "cell_type": "code",
   "execution_count": null,
   "id": "f040ae24",
   "metadata": {},
   "outputs": [],
   "source": []
  }
 ],
 "metadata": {
  "kernelspec": {
   "display_name": "Python 3 (ipykernel)",
   "language": "python",
   "name": "python3"
  },
  "language_info": {
   "codemirror_mode": {
    "name": "ipython",
    "version": 3
   },
   "file_extension": ".py",
   "mimetype": "text/x-python",
   "name": "python",
   "nbconvert_exporter": "python",
   "pygments_lexer": "ipython3",
   "version": "3.10.9"
  }
 },
 "nbformat": 4,
 "nbformat_minor": 5
}
